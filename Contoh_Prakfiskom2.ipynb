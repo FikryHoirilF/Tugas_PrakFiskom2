{
  "nbformat": 4,
  "nbformat_minor": 0,
  "metadata": {
    "colab": {
      "provenance": []
    },
    "kernelspec": {
      "name": "python3",
      "display_name": "Python 3"
    },
    "language_info": {
      "name": "python"
    }
  },
  "cells": [
    {
      "cell_type": "code",
      "execution_count": 3,
      "metadata": {
        "colab": {
          "base_uri": "https://localhost:8080/"
        },
        "id": "tGN-DW-mjSvc",
        "outputId": "c20e4f85-2f5e-43f6-adb9-f233dd9dd935"
      },
      "outputs": [
        {
          "output_type": "stream",
          "name": "stdout",
          "text": [
            "20\n"
          ]
        }
      ],
      "source": [
        "x = 20\n",
        "\n",
        "if x>20:\n",
        "    print(\"Salah\")\n",
        "elif x<20:\n",
        "    print(\"s\")\n",
        "elif x == 20:\n",
        "    print(x)\n",
        "else:\n",
        "    print(\"....\")"
      ]
    },
    {
      "cell_type": "markdown",
      "source": [
        "### Soal\n",
        "Sebuah gaya tertentu menghasilkan percepatan 5$m/s^2$ pada benda standar. Jika gaya yang sama dikenakan pada benda kedua, gaya itu menghasilkan percepatan 15$m/s^2$ . berapakah massa benda kedua, dan berapakah besarnya gaya itu?"
      ],
      "metadata": {
        "id": "5-74ylKfnZoB"
      }
    },
    {
      "cell_type": "markdown",
      "source": [
        "**Jawab** \\\\\n",
        "$ F_1 = m_1 \\times a_1 = m \\times 5$ \\\\\n",
        "$ F_2 = m_2 \\times a_2 = m_2 \\times 15$ \\\\\n",
        "$ F_1 = F_2 = F$ \\\\\n",
        "$ m \\times 5 = m_2 \\times 15 $ \\\\\n",
        "$ \\frac{m}{m_2} = \\frac{5}{15} = \\frac{1}{3}$ \\\\\n",
        "$m_2 = \\frac{1}{3}$ Kg  \\\\\n",
        "\n",
        "$F = m_2 \\times a_2 = \\frac{1}{3} \\times 15 = 5 $ N\n"
      ],
      "metadata": {
        "id": "zP4y6E_Mn-Hi"
      }
    },
    {
      "cell_type": "code",
      "source": [
        "# F =  ma\n",
        "a1 = 5 #m/s^2\n",
        "a2 = 15 #m/s^2\n",
        "m1 = 1  #kg\n",
        "\n",
        "# F1 = F2 = F\n",
        "m2 = m1 * 5 / 15\n",
        "print(m2, \"Kg\")\n",
        "\n",
        "F = m2 * a2\n",
        "print(F, \"N\")"
      ],
      "metadata": {
        "colab": {
          "base_uri": "https://localhost:8080/"
        },
        "id": "TH8-cnKyktv9",
        "outputId": "b86f2deb-cc47-4b8e-b540-c890005abf45"
      },
      "execution_count": 7,
      "outputs": [
        {
          "output_type": "stream",
          "name": "stdout",
          "text": [
            "0.3333333333333333 Kg\n",
            "5.0 N\n"
          ]
        }
      ]
    }
  ]
}